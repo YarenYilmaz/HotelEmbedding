{
 "cells": [
  {
   "cell_type": "markdown",
   "metadata": {},
   "source": [
    "# Hotel Embedding Notebook"
   ]
  },
  {
   "cell_type": "code",
   "execution_count": null,
   "metadata": {},
   "outputs": [],
   "source": [
    "import pandas as pd\n",
    "import numpy as np\n",
    "import random\n",
    "random.seed(100)\n",
    "\n",
    "from keras.layers import Input, Embedding, Dot, Reshape, Dense\n",
    "from keras.models import Model\n",
    "from keras.models import load_model\n",
    "\n",
    "#import umap as UMAP\n",
    "import matplotlib.pyplot as plt\n",
    "plt.style.use('fivethirtyeight')\n",
    "plt.rcParams['font.size'] = 15"
   ]
  },
  {
   "cell_type": "code",
   "execution_count": null,
   "metadata": {},
   "outputs": [],
   "source": [
    "hotel = pd.read_csv('hotel_embedding.csv')\n",
    "hotel = hotel[hotel[\"DWHotelID\"].notna()]\n",
    "hotel = hotel.fillna(0)\n",
    "hotel.index = range(0, hotel.shape[0])"
   ]
  },
  {
   "cell_type": "code",
   "execution_count": null,
   "metadata": {},
   "outputs": [],
   "source": [
    "city = hotel[\"HotelName\"]\n",
    "name = hotel[\"CityName\"]\n",
    "rooms = hotel[\"#rooms\"]\n",
    "df = hotel.drop([\"HotelName\",\"CityName\",\"#rooms\"], axis = 1)\n",
    "df[\"DWHotelID\"] = df[\"DWHotelID\"].astype(int)"
   ]
  },
  {
   "cell_type": "code",
   "execution_count": null,
   "metadata": {},
   "outputs": [],
   "source": [
    "item_id = df['DWHotelID'].values\n",
    "cols =df.columns.to_list()[1:]\n",
    "properties = df[cols].values"
   ]
  },
  {
   "cell_type": "code",
   "execution_count": null,
   "metadata": {},
   "outputs": [],
   "source": [
    "hotel_index = {item_id: idx for idx, item_id in enumerate(item_id)}\n",
    "index_hotel = {idx: item_id for item_id, idx in hotel_index.items()}\n",
    "index_properties = {idx: properties for idx, properties in  enumerate(properties)}\n",
    "properties_index = {prop:idx  for idx, prop in  enumerate(cols)}"
   ]
  },
  {
   "cell_type": "code",
   "execution_count": null,
   "metadata": {},
   "outputs": [],
   "source": [
    "pairs = []\n",
    "#positive pairs\n",
    "for item in item_id:\n",
    "    pairs.extend((hotel_index[item], cols[p]) for p in range(len(cols)) if (df.loc[hotel_index[item]][cols[p]] == 1))\n",
    "\n",
    "pairs_set = set(pairs)"
   ]
  },
  {
   "cell_type": "code",
   "execution_count": null,
   "metadata": {},
   "outputs": [],
   "source": [
    "def generate_batch(pairs, n_positive = 30, negative_ratio = 1.0, classification = False):\n",
    "    \"\"\"Generate batches of samples for training\"\"\"\n",
    "    batch_size = n_positive * (1 + negative_ratio)\n",
    "    batch = np.zeros((batch_size, 3))\n",
    "    \n",
    "    # Adjust label based on task\n",
    "    if classification:\n",
    "        neg_label = 0\n",
    "    else:\n",
    "        neg_label = -1\n",
    "    \n",
    "    # This creates a generator\n",
    "    while True:\n",
    "        # randomly choose positive examples\n",
    "        for idx, (hotel_id,prop) in enumerate(random.sample(pairs, n_positive)):\n",
    "            batch[idx, :] = (hotel_id, properties_index[prop], 1)\n",
    "\n",
    "        # Increment idx by 1\n",
    "        idx += 1\n",
    "        \n",
    "        # Add negative examples until reach batch size\n",
    "        while idx < batch_size:\n",
    "            \n",
    "            # random selection\n",
    "            random_idx = random.randrange(df.shape[0])\n",
    "            random_prop = random.randrange(len(cols))\n",
    "            \n",
    "            # Check to make sure this is not a positive example\n",
    "            if (random_idx, random_prop) not in pairs_set:\n",
    "                \n",
    "                # Add to batch and increment index\n",
    "                batch[idx, :] = (random_idx, random_prop, neg_label)\n",
    "                idx += 1\n",
    "                \n",
    "        # Make sure to shuffle order\n",
    "        np.random.shuffle(batch)\n",
    "        yield {'hotel_id': batch[:, 0], 'property': batch[:, 1]}, batch[:, 2]"
   ]
  },
  {
   "cell_type": "code",
   "execution_count": null,
   "metadata": {},
   "outputs": [],
   "source": [
    "next(generate_batch(pairs, n_positive = 2, negative_ratio = 2))"
   ]
  },
  {
   "cell_type": "code",
   "execution_count": null,
   "metadata": {},
   "outputs": [],
   "source": [
    "def hotel_embedding_model(embedding_size = 200, classification = False):\n",
    "    \"\"\"Model to embed hotels and props using the functional API.\"\"\"\n",
    "    \n",
    "    # Both inputs are 1-dimensional\n",
    "    hotel_id = Input(name = 'hotel_id', shape = [1])\n",
    "    prop = Input(name = 'property', shape = [1])\n",
    "    \n",
    "    # Embedding the hotel (shape will be (None, 1, embedding_size))\n",
    "    hotel_embedding = Embedding(name = 'hotel_embedding',\n",
    "                               input_dim = df.shape[0],\n",
    "                               output_dim = embedding_size)(hotel_id)\n",
    "    \n",
    "    # Embedding the prop (shape will be (None, 1, embedding_size))\n",
    "    prop_embedding = Embedding(name = 'prop_embedding',\n",
    "                               input_dim = len(cols),\n",
    "                               output_dim = embedding_size)(prop)\n",
    "    \n",
    "    # Merge the layers with a dot product along the second axis (shape will be (None, 1, 1))\n",
    "    merged = Dot(name = 'dot_product', normalize = True, axes = 2)([hotel_embedding, prop_embedding])\n",
    "    \n",
    "    # Reshape to be a single number (shape will be (None, 1))\n",
    "    merged = Reshape(target_shape = [1])(merged)\n",
    "    \n",
    "    # If classifcation, add extra layer and loss function is binary cross entropy\n",
    "    if classification:\n",
    "        merged = Dense(1, activation = 'sigmoid')(merged)\n",
    "        model = Model(inputs = [hotel_id, prop], outputs = merged)\n",
    "        model.compile(optimizer = 'Adam', loss = 'binary_crossentropy', metrics = ['accuracy'])\n",
    "    \n",
    "    # Otherwise loss function is mean squared error\n",
    "    else:\n",
    "        model = Model(inputs = [hotel_id, prop], outputs = merged)\n",
    "        model.compile(optimizer = 'Adam', loss = 'mse')\n",
    "    \n",
    "    return model"
   ]
  },
  {
   "cell_type": "code",
   "execution_count": null,
   "metadata": {},
   "outputs": [],
   "source": [
    "# Instantiate model and show parameters\n",
    "model = hotel_embedding_model()\n",
    "model.summary()\n",
    "\n",
    "n_positive = 2048\n",
    "\n",
    "gen = generate_batch(pairs, n_positive, negative_ratio = 2)"
   ]
  },
  {
   "cell_type": "code",
   "execution_count": null,
   "metadata": {},
   "outputs": [],
   "source": [
    "# Train\n",
    "h = model.fit_generator(gen, epochs = 15, \n",
    "                        steps_per_epoch = len(pairs) // n_positive,\n",
    "                        verbose = 2)\n",
    "\n",
    "model.save('./hotel_embedding.h5')"
   ]
  },
  {
   "cell_type": "code",
   "execution_count": null,
   "metadata": {},
   "outputs": [],
   "source": [
    "hotel_layer = model.get_layer('hotel_embedding')\n",
    "hotel_weights = hotel_layer.get_weights()[0]\n",
    "hotel_weights.shape"
   ]
  },
  {
   "cell_type": "code",
   "execution_count": null,
   "metadata": {},
   "outputs": [],
   "source": [
    "def find_similar(hotel_id, weights, index_name = 'hotel_id', n = 11, least = False, return_dist = False, plot = False):\n",
    "    \"\"\"Find n most similar items (or least) to name based on embeddings. Option to also plot the results\"\"\"\n",
    "    \n",
    "    # Select index and reverse index\n",
    "    if index_name == 'hotel_id':\n",
    "        index = hotel_index\n",
    "        rindex = index_hotel\n",
    "    elif index_name == 'prop':\n",
    "        index = properties_index\n",
    "        rindex = cols\n",
    "    \n",
    "    # Check to make sure `name` is in index\n",
    "    try:\n",
    "        # Calculate dot product between book and all others\n",
    "        dists = np.dot(weights, weights[hotel_index[hotel_id]])\n",
    "    except KeyError:\n",
    "        print(f'{hotel_id} Not Found.')\n",
    "        return\n",
    "    \n",
    "    # Sort distance indexes from smallest to largest\n",
    "    sorted_dists = np.argsort(dists)\n",
    "    \n",
    "    # Plot results if specified\n",
    "    if plot:\n",
    "        \n",
    "        # Find furthest and closest items\n",
    "        furthest = sorted_dists[:(n // 2)]\n",
    "        closest = sorted_dists[-n-1: len(dists) - 1]\n",
    "        items = [rindex[c] for c in furthest]\n",
    "        items.extend(rindex[c] for c in closest)\n",
    "        hotel_name = []\n",
    "        for id_ in items:\n",
    "            hotel_name.append(hotel[hotel[\"DWHotelID\"]==id_][\"HotelName\"].values[0])\n",
    "        \n",
    "        \n",
    "        # Find furthest and closets distances\n",
    "        distances = [dists[c] for c in furthest]\n",
    "        distances.extend(dists[c] for c in closest)\n",
    "        \n",
    "        colors = ['r' for _ in range(n //2)]\n",
    "        colors.extend('g' for _ in range(n))\n",
    "  \n",
    "        data = pd.DataFrame({'distance': distances}, index = hotel_name)\n",
    "\n",
    "        # Horizontal bar chart\n",
    "        data['distance'].plot.barh(color = colors, figsize = (10, 8),\n",
    "                                   edgecolor = 'k', linewidth = 2)\n",
    "        plt.xlabel('Cosine Similarity');\n",
    "        plt.axvline(x = 0, color = 'k');\n",
    "        \n",
    "        # Formatting for italicized title\n",
    "        name_str = f'{index_name.capitalize()}s Most and Least Similar to'\n",
    "        \n",
    "            # Title uses latex for italize\n",
    "        name_str += ' $\\it{' + hotel[hotel[\"DWHotelID\"]==hotel_id][\"HotelName\"].values[0] + '}$'\n",
    "        plt.title(name_str, x = 0.2, size = 28, y = 1.05)\n",
    "        \n",
    "        return None\n",
    "    \n",
    "    # If specified, find the least similar\n",
    "    if least:\n",
    "        # Take the first n from sorted distances\n",
    "        closest = sorted_dists[:n]\n",
    "         \n",
    "        print(f'{index_name.capitalize()}s furthest from {hotel_id}.\\n')\n",
    "        \n",
    "    # Otherwise find the most similar\n",
    "    else:\n",
    "        # Take the last n sorted distances\n",
    "        closest = sorted_dists[-n:]\n",
    "        \n",
    "        # Need distances later on\n",
    "        if return_dist:\n",
    "            return dists, closest\n",
    "        \n",
    "        \n",
    "        print(f'{index_name.capitalize()}s closest to {hotel_id}.\\n')\n",
    "        \n",
    "    # Need distances later on\n",
    "    if return_dist:\n",
    "        return dists, closest\n",
    "    \n",
    "    \n",
    "    # Print formatting\n",
    "    max_width = max([len(str(rindex[c])) for c in closest])\n",
    "    # Print the most similar and distances\n",
    "    closest_ids = []\n",
    "    for c in reversed(closest):\n",
    "        closest_ids.append(rindex[c])\n",
    "        print(f'{index_name.capitalize()}: {rindex[c]:{max_width + 2}} Similarity: {dists[c]:.{2}}')\n",
    "    return closest_ids"
   ]
  },
  {
   "cell_type": "code",
   "execution_count": null,
   "metadata": {},
   "outputs": [],
   "source": [
    "print( \"{} oteli için en benzer otellerin bulunması :\".format(hotel[hotel[\"DWHotelID\"]==2708][\"HotelName\"].values[0]) )\n",
    "closest = find_similar(2708, hotel_weights)\n",
    "print(\"\\n\")\n",
    "for c in closest:\n",
    "    print(hotel[hotel[\"DWHotelID\"]==c][[\"DWHotelID\",\"HotelName\",\"CityName\"]].values)"
   ]
  },
  {
   "cell_type": "code",
   "execution_count": null,
   "metadata": {},
   "outputs": [],
   "source": [
    "closest = find_similar(2708, hotel_weights, n = 5, plot=True)"
   ]
  },
  {
   "cell_type": "code",
   "execution_count": null,
   "metadata": {},
   "outputs": [],
   "source": [
    "arr_1 = hotel[hotel[\"DWHotelID\"]==2708].values[0]\n",
    "arr_2 = hotel[hotel[\"DWHotelID\"]==10477].values[0]\n",
    "count = -3\n",
    "\n",
    "same = []\n",
    "for a in range(len(arr_1)):\n",
    "    if arr_1[a]==arr_2[a]:\n",
    "        count+=1\n",
    "    else:\n",
    "        same.append(a)\n",
    "print(\"Number of same features out of 335 is : \", count)\n",
    "\n",
    "for same_ in same:\n",
    "    print(hotel.columns[same_])"
   ]
  },
  {
   "cell_type": "code",
   "execution_count": null,
   "metadata": {},
   "outputs": [],
   "source": []
  }
 ],
 "metadata": {
  "kernelspec": {
   "display_name": "Python 3",
   "language": "python",
   "name": "python3"
  },
  "language_info": {
   "codemirror_mode": {
    "name": "ipython",
    "version": 3
   },
   "file_extension": ".py",
   "mimetype": "text/x-python",
   "name": "python",
   "nbconvert_exporter": "python",
   "pygments_lexer": "ipython3",
   "version": "3.8.3"
  }
 },
 "nbformat": 4,
 "nbformat_minor": 4
}
